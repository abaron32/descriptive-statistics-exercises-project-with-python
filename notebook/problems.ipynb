{
    "cells": [
        {
            "cell_type": "markdown",
            "id": "ac622319",
            "metadata": {},
            "source": [
                "# Descriptive Statistics Problems"
            ]
        },
        {
            "cell_type": "markdown",
            "id": "aa8993e4",
            "metadata": {},
            "source": [
                "### Exercise 1"
            ]
        },
        {
            "cell_type": "markdown",
            "id": "5e0ab0d5",
            "metadata": {},
            "source": [
                "As right now, you are familliar with numpy, we are going to use numpy to get some data statistics.\n",
                "\n",
                "First, lets create an array of 20 elements distributed normally (Gaussian):\n",
                "\n",
                "Use the np.random.normal function to create some data, using 0,1,20 as parameters because we want a one dimentional array of 20 numbers distributed normally (Gaussian)"
            ]
        },
        {
            "cell_type": "code",
            "execution_count": 51,
            "id": "34720ab6",
            "metadata": {},
            "outputs": [
                {
                    "name": "stdout",
                    "output_type": "stream",
                    "text": [
                        "[-0.01164882 -0.35696508 -0.25295913  0.15344547  0.25380481 -0.4033193\n",
                        "  1.22635733  0.22684721 -2.16794433 -0.17888179 -0.77645367 -0.0427187\n",
                        "  0.15768638  1.04483411 -0.38306164  0.68322599  1.07396005 -0.97622079\n",
                        "  0.87400344  0.93801548]\n"
                    ]
                }
            ],
            "source": [
                "#import libraries\n",
                "import numpy as np\n",
                "import matplotlib.pyplot as plt\n",
                "\n",
                "# Set seed in order to get similar results\n",
                "\n",
                "np.random.seed(362)\n",
                "# create the data\n",
                "arr = np.random.normal(0,1,20)\n",
                "\n",
                "#print results\n",
                "print(arr)\n",
                "\n"
            ]
        },
        {
            "cell_type": "code",
            "execution_count": 53,
            "id": "49c55822",
            "metadata": {},
            "outputs": [
                {
                    "name": "stdout",
                    "output_type": "stream",
                    "text": [
                        "Mean: 0.05410035056807947\n"
                    ]
                }
            ],
            "source": [
                "#Use numpy to get the mean of your data\n",
                "\n",
                "mean = arr.mean()\n",
                "print(\"Mean:\", mean)"
            ]
        },
        {
            "cell_type": "code",
            "execution_count": 54,
            "id": "03529459",
            "metadata": {},
            "outputs": [
                {
                    "name": "stdout",
                    "output_type": "stream",
                    "text": [
                        "Variance: 0.6377983983048098\n"
                    ]
                }
            ],
            "source": [
                "#get the variance of your data\n",
                "\n",
                "vza = arr.var()\n",
                "print(\"Variance:\", vza)"
            ]
        },
        {
            "cell_type": "code",
            "execution_count": 55,
            "id": "e53f30c5",
            "metadata": {},
            "outputs": [
                {
                    "name": "stdout",
                    "output_type": "stream",
                    "text": [
                        "Standard deviation: 0.7986228135389133\n"
                    ]
                }
            ],
            "source": [
                "# Standard deviation\n",
                "sd = arr.std()\n",
                "print(\"Standard deviation:\", sd)"
            ]
        },
        {
            "cell_type": "code",
            "execution_count": 56,
            "id": "9bce852f",
            "metadata": {},
            "outputs": [
                {
                    "name": "stdout",
                    "output_type": "stream",
                    "text": [
                        "Mode: ModeResult(mode=array([-2.16794433]), count=array([1]))\n"
                    ]
                }
            ],
            "source": [
                "#import libraries and print the mode\n",
                "from scipy import stats\n",
                "\n",
                "\n",
                "# Mode for continuous array\n",
                "# stats.mode si no hay ningún valor repetido, entonces trae como modo el menor valor\n",
                "\n",
                "\n",
                "print(\"Mode:\",stats.mode(arr))"
            ]
        },
        {
            "cell_type": "code",
            "execution_count": 50,
            "id": "c682cb6e",
            "metadata": {},
            "outputs": [
                {
                    "name": "stdout",
                    "output_type": "stream",
                    "text": [
                        "median_low: -0.011648821253498356\n",
                        "median_high: 0.1534454723387009\n",
                        "median (average between low and high): 0.07089832554260127\n"
                    ]
                }
            ],
            "source": [
                "# Median\n",
                "\n",
                "import statistics\n",
                "\n",
                "\n",
                "mediana_low = statistics.median_low(arr)\n",
                "print(\"median_low:\", mediana_low)\n",
                "mediana_high = statistics.median_high(arr)\n",
                "print(\"median_high:\", mediana_high)\n",
                "mediana=statistics.median(arr)\n",
                "print(\"median (average between low and high):\",mediana)"
            ]
        },
        {
            "cell_type": "code",
            "execution_count": 47,
            "id": "39c3fabd",
            "metadata": {},
            "outputs": [
                {
                    "name": "stdout",
                    "output_type": "stream",
                    "text": [
                        "Q1 quantile of arr :  -0.35696507520512644\n",
                        "Q2 quantile of arr :  0.1534454723387009\n",
                        "Q3 quantile of arr :  0.6832259888041838\n",
                        "Max of arr :  1.2263573250145885\n"
                    ]
                }
            ],
            "source": [
                "# Print the Quantiles\n",
                "\n",
                "print(\"Q1 quantile of arr : \", np.quantile(arr, .25, method=\"nearest\"))\n",
                "print(\"Q2 quantile of arr : \", np.quantile(arr, .5, method=\"nearest\"))\n",
                "print(\"Q3 quantile of arr : \", np.quantile(arr, .75, method=\"nearest\"))\n",
                "print(\"Max of arr : \", np.quantile(arr, 1)) \n",
                "\n",
                "# This match with np.median, why?\n",
                "# Because quantile Q2 acumulates 50% of probability, which is the definition of the median.\n"
            ]
        },
        {
            "cell_type": "markdown",
            "id": "46c70c3d",
            "metadata": {},
            "source": [
                "### Exercise 2\n",
                "\n",
                "Write a Python program to calculate the standard deviation of the following data:\n",
                "```py\n",
                "data = [4, 2, 5, 8, 6]\n",
                "```"
            ]
        },
        {
            "cell_type": "code",
            "execution_count": 68,
            "id": "d590308e",
            "metadata": {},
            "outputs": [],
            "source": [
                "import math\n",
                "import sys\n",
                "\n",
                "# Define the standard deviation function\n",
                "\n",
                "def sd_calc(data):\n",
                "    #code here\n",
                "    n = len(data)\n",
                "    media = avg_calc(data)\n",
                "    suma=0\n",
                "    for i in data:\n",
                "        calculo = (float(i)-media)**2\n",
                "        suma=suma+calculo\n",
                "\n",
                "    # calculate stan. dev.\n",
                "    std = math.sqrt((suma/n))\n",
                "    return std\n",
                "    \n",
                "\n",
                "# Define the average function\n",
                "\n",
                "def avg_calc(ls):\n",
                "    #code here\n",
                "    n = len(ls)\n",
                "    suma=0\n",
                "    for i in ls:\n",
                "        suma = suma+ i\n",
                "    return suma/n\n",
                "\n",
                "    \n",
                "\n",
                "\n"
            ]
        },
        {
            "cell_type": "code",
            "execution_count": 66,
            "id": "65474276",
            "metadata": {},
            "outputs": [
                {
                    "name": "stdout",
                    "output_type": "stream",
                    "text": [
                        "mean con mi función: 5.0\n",
                        "mean con numpy: 5.0\n"
                    ]
                }
            ],
            "source": [
                "data = [4, 2, 5, 8, 6]\n",
                "print(\"mean with the function:\", avg_calc(data))\n",
                "\n",
                "# Chequeo con funcion mean de numpy\n",
                "\n",
                "print(\"mean with numpy:\", np.array(data).mean())\n"
            ]
        },
        {
            "cell_type": "code",
            "execution_count": 69,
            "id": "f26d0db6",
            "metadata": {},
            "outputs": [
                {
                    "name": "stdout",
                    "output_type": "stream",
                    "text": [
                        "std con mi función: 2.0\n",
                        "std con numpy: 2.0\n"
                    ]
                }
            ],
            "source": [
                "data = [4, 2, 5, 8, 6]\n",
                "print(\"std with the function:\", sd_calc(data))\n",
                "\n",
                "# Chequeo con funcion std de numpy\n",
                "\n",
                "print(\"std with numpy:\", np.array(data).std())"
            ]
        },
        {
            "cell_type": "markdown",
            "id": "04b71791",
            "metadata": {},
            "source": [
                "Source:\n",
                "\n",
                "https://www.w3resource.com/"
            ]
        }
    ],
    "metadata": {
        "kernelspec": {
            "display_name": "Python 3.8.13 64-bit ('3.8.13')",
            "language": "python",
            "name": "python3"
        },
        "language_info": {
            "codemirror_mode": {
                "name": "ipython",
                "version": 3
            },
            "file_extension": ".py",
            "mimetype": "text/x-python",
            "name": "python",
            "nbconvert_exporter": "python",
            "pygments_lexer": "ipython3",
            "version": "3.8.13"
        },
        "vscode": {
            "interpreter": {
                "hash": "110cc1dee26208153f2972f08a2ad52b6a56238dc66d48e87fb757ef2996db56"
            }
        }
    },
    "nbformat": 4,
    "nbformat_minor": 5
}
